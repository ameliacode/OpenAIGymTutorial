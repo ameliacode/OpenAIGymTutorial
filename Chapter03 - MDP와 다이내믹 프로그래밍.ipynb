{
 "cells": [
  {
   "cell_type": "markdown",
   "metadata": {},
   "source": [
    "## 얼음호수 문제\n",
    "- 상태: 16개 위치 상태 \n",
    "- 행동: 위, 아래, 왼쪽, 오른쪽\n",
    "- 전이 확률: 행동 a에 의해서 한 상태에서 다른 상태로 옮겨갈 수 있는 확률\n",
    "- 보상 확률: 행동 a에 의해 다른 상태로 전이할 때 보상받는 확률"
   ]
  },
  {
   "cell_type": "code",
   "execution_count": null,
   "metadata": {
    "collapsed": true
   },
   "outputs": [],
   "source": []
  }
 ],
 "metadata": {
  "kernelspec": {
   "display_name": "Python 3 (ipykernel)",
   "language": "python",
   "name": "python3"
  },
  "language_info": {
   "codemirror_mode": {
    "name": "ipython",
    "version": 3
   },
   "file_extension": ".py",
   "mimetype": "text/x-python",
   "name": "python",
   "nbconvert_exporter": "python",
   "pygments_lexer": "ipython3",
   "version": "3.6.10"
  }
 },
 "nbformat": 4,
 "nbformat_minor": 2
}
